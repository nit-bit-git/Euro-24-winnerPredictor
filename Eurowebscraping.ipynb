{
 "cells": [
  {
   "cell_type": "code",
   "execution_count": 2,
   "id": "96fbcf7d-4121-44b4-bb50-2e768a5cf7cc",
   "metadata": {},
   "outputs": [],
   "source": [
    "import requests\n"
   ]
  },
  {
   "cell_type": "code",
   "execution_count": 4,
   "id": "9d8f22f3-6de9-4301-b3e7-0398cefc2292",
   "metadata": {},
   "outputs": [],
   "source": [
    "standing_url = \"https://fbref.com/en/comps/676/European-Championship-Stats#all_Group%20stage\"\n",
    "data= requests.get(standing_url)"
   ]
  },
  {
   "cell_type": "code",
   "execution_count": 23,
   "id": "7e6268ea-8648-405a-a6a1-f3848910b982",
   "metadata": {},
   "outputs": [],
   "source": [
    "from bs4 import BeautifulSoup\n",
    "soup = BeautifulSoup(data.text)"
   ]
  },
  {
   "cell_type": "code",
   "execution_count": 6,
   "id": "8bb10309-4098-4b80-9feb-9b69d5c2caef",
   "metadata": {},
   "outputs": [
    {
     "data": {
      "text/plain": [
       "<Response [200]>"
      ]
     },
     "execution_count": 6,
     "metadata": {},
     "output_type": "execute_result"
    }
   ],
   "source": [
    "data"
   ]
  },
  {
   "cell_type": "code",
   "execution_count": 11,
   "id": "05b3d114-e90f-482c-9715-30522d165e82",
   "metadata": {},
   "outputs": [
    {
     "ename": "IndexError",
     "evalue": "list index out of range",
     "output_type": "error",
     "traceback": [
      "\u001b[1;31m---------------------------------------------------------------------------\u001b[0m",
      "\u001b[1;31mIndexError\u001b[0m                                Traceback (most recent call last)",
      "Cell \u001b[1;32mIn[11], line 1\u001b[0m\n\u001b[1;32m----> 1\u001b[0m standings_table \u001b[38;5;241m=\u001b[39m soup\u001b[38;5;241m.\u001b[39mselect(\u001b[38;5;124m'\u001b[39m\u001b[38;5;124mdiv.section_content\u001b[39m\u001b[38;5;124m'\u001b[39m, \u001b[38;5;28mid\u001b[39m\u001b[38;5;241m=\u001b[39m\u001b[38;5;124m'\u001b[39m\u001b[38;5;124mdiv_Group Stage\u001b[39m\u001b[38;5;124m'\u001b[39m)[\u001b[38;5;241m0\u001b[39m]\n",
      "\u001b[1;31mIndexError\u001b[0m: list index out of range"
     ]
    }
   ],
   "source": [
    "standings_table = soup.select('div.section_content', id='div_Group Stage')[0]"
   ]
  },
  {
   "cell_type": "code",
   "execution_count": 38,
   "id": "58616ab1-0876-4f3b-a795-c142a57ca233",
   "metadata": {},
   "outputs": [
    {
     "name": "stdout",
     "output_type": "stream",
     "text": [
      "None\n"
     ]
    }
   ],
   "source": []
  },
  {
   "cell_type": "code",
   "execution_count": 40,
   "id": "e139e6bb-1772-4cfb-8a97-1e0bf9b77a95",
   "metadata": {},
   "outputs": [
    {
     "ename": "AttributeError",
     "evalue": "'NoneType' object has no attribute 'find_all'",
     "output_type": "error",
     "traceback": [
      "\u001b[1;31m---------------------------------------------------------------------------\u001b[0m",
      "\u001b[1;31mAttributeError\u001b[0m                            Traceback (most recent call last)",
      "Cell \u001b[1;32mIn[40], line 1\u001b[0m\n\u001b[1;32m----> 1\u001b[0m links \u001b[38;5;241m=\u001b[39m standings_table\u001b[38;5;241m.\u001b[39mfind_all(\u001b[38;5;124m'\u001b[39m\u001b[38;5;124ma\u001b[39m\u001b[38;5;124m'\u001b[39m)\n",
      "\u001b[1;31mAttributeError\u001b[0m: 'NoneType' object has no attribute 'find_all'"
     ]
    }
   ],
   "source": [
    "links = standings_table.find_all('a')"
   ]
  },
  {
   "cell_type": "code",
   "execution_count": 68,
   "id": "458f3c44-cac1-44c2-93bf-81766784a6c4",
   "metadata": {},
   "outputs": [],
   "source": [
    "links = [l.get(\"href\") for l in links]"
   ]
  },
  {
   "cell_type": "code",
   "execution_count": 70,
   "id": "f6b40347-5a61-4432-92bc-14a867ba183e",
   "metadata": {},
   "outputs": [],
   "source": [
    "links = [l for l in links if '/squads/' in l]"
   ]
  },
  {
   "cell_type": "code",
   "execution_count": 72,
   "id": "5ab827d5-3704-413b-9bfb-63ec47cd2187",
   "metadata": {},
   "outputs": [
    {
     "data": {
      "text/plain": [
       "[['', 'en', 'squads', 'c1e40422', 'Germany-Men-Stats'],\n",
       " ['', 'en', 'squads', '81021a70', 'Switzerland-Men-Stats'],\n",
       " ['', 'en', 'squads', 'b4ac5e97', 'Hungary-Men-Stats'],\n",
       " ['', 'en', 'squads', '602d3994', 'Scotland-Men-Stats'],\n",
       " ['', 'en', 'squads', 'b561dd30', 'Spain-Men-Stats'],\n",
       " ['', 'en', 'squads', '998c5958', 'Italy-Men-Stats'],\n",
       " ['', 'en', 'squads', '7b08e376', 'Croatia-Men-Stats'],\n",
       " ['', 'en', 'squads', 'b44b9eb7', 'Albania-Men-Stats'],\n",
       " ['', 'en', 'squads', '1862c019', 'England-Men-Stats'],\n",
       " ['', 'en', 'squads', '29a4e4af', 'Denmark-Men-Stats'],\n",
       " ['', 'en', 'squads', '6b9f868f', 'Slovenia-Men-Stats'],\n",
       " ['', 'en', 'squads', '1d6f5c9b', 'Serbia-Men-Stats'],\n",
       " ['', 'en', 'squads', '5bb5024a', 'Netherlands-Men-Stats'],\n",
       " ['', 'en', 'squads', 'b1b36dcd', 'France-Men-Stats'],\n",
       " ['', 'en', 'squads', 'd5121f10', 'Austria-Men-Stats'],\n",
       " ['', 'en', 'squads', '8912dcf0', 'Poland-Men-Stats'],\n",
       " ['', 'en', 'squads', '7def9493', 'Romania-Men-Stats'],\n",
       " ['', 'en', 'squads', '361422b9', 'Belgium-Men-Stats'],\n",
       " ['', 'en', 'squads', '66cff10b', 'Slovakia-Men-Stats'],\n",
       " ['', 'en', 'squads', 'afa29a3e', 'Ukraine-Men-Stats'],\n",
       " ['', 'en', 'squads', '4a1b4ea8', 'Portugal-Men-Stats'],\n",
       " ['', 'en', 'squads', 'ac6bcf92', 'Turkiye-Men-Stats'],\n",
       " ['', 'en', 'squads', '2740937c', 'Czechia-Men-Stats'],\n",
       " ['', 'en', 'squads', '7158b127', 'Georgia-Men-Stats']]"
      ]
     },
     "execution_count": 72,
     "metadata": {},
     "output_type": "execute_result"
    }
   ],
   "source": [
    "links = [ l.split('/') for l in links]\n",
    "links"
   ]
  },
  {
   "cell_type": "code",
   "execution_count": 74,
   "id": "dd392409-784f-45f7-80ac-c8223eac9fbb",
   "metadata": {},
   "outputs": [
    {
     "data": {
      "text/plain": [
       "['/en/squads/c1e40422/2021/Germany-Men-Stats',\n",
       " '/en/squads/81021a70/2021/Switzerland-Men-Stats',\n",
       " '/en/squads/b4ac5e97/2021/Hungary-Men-Stats',\n",
       " '/en/squads/602d3994/2021/Scotland-Men-Stats',\n",
       " '/en/squads/b561dd30/2021/Spain-Men-Stats',\n",
       " '/en/squads/998c5958/2021/Italy-Men-Stats',\n",
       " '/en/squads/7b08e376/2021/Croatia-Men-Stats',\n",
       " '/en/squads/b44b9eb7/2021/Albania-Men-Stats',\n",
       " '/en/squads/1862c019/2021/England-Men-Stats',\n",
       " '/en/squads/29a4e4af/2021/Denmark-Men-Stats',\n",
       " '/en/squads/6b9f868f/2021/Slovenia-Men-Stats',\n",
       " '/en/squads/1d6f5c9b/2021/Serbia-Men-Stats',\n",
       " '/en/squads/5bb5024a/2021/Netherlands-Men-Stats',\n",
       " '/en/squads/b1b36dcd/2021/France-Men-Stats',\n",
       " '/en/squads/d5121f10/2021/Austria-Men-Stats',\n",
       " '/en/squads/8912dcf0/2021/Poland-Men-Stats',\n",
       " '/en/squads/7def9493/2021/Romania-Men-Stats',\n",
       " '/en/squads/361422b9/2021/Belgium-Men-Stats',\n",
       " '/en/squads/66cff10b/2021/Slovakia-Men-Stats',\n",
       " '/en/squads/afa29a3e/2021/Ukraine-Men-Stats',\n",
       " '/en/squads/4a1b4ea8/2021/Portugal-Men-Stats',\n",
       " '/en/squads/ac6bcf92/2021/Turkiye-Men-Stats',\n",
       " '/en/squads/2740937c/2021/Czechia-Men-Stats',\n",
       " '/en/squads/7158b127/2021/Georgia-Men-Stats']"
      ]
     },
     "execution_count": 74,
     "metadata": {},
     "output_type": "execute_result"
    }
   ],
   "source": [
    "links = ['/'.join([parts[0], parts[1], parts[2], parts[3], '2021' , parts[4]]) for parts in links]\n",
    "links\n"
   ]
  },
  {
   "cell_type": "code",
   "execution_count": 76,
   "id": "1554681b-b623-4e80-8793-6afa310c7522",
   "metadata": {},
   "outputs": [
    {
     "data": {
      "text/plain": [
       "['https://fbref.com//en/squads/c1e40422/2021/Germany-Men-Stats',\n",
       " 'https://fbref.com//en/squads/81021a70/2021/Switzerland-Men-Stats',\n",
       " 'https://fbref.com//en/squads/b4ac5e97/2021/Hungary-Men-Stats',\n",
       " 'https://fbref.com//en/squads/602d3994/2021/Scotland-Men-Stats',\n",
       " 'https://fbref.com//en/squads/b561dd30/2021/Spain-Men-Stats',\n",
       " 'https://fbref.com//en/squads/998c5958/2021/Italy-Men-Stats',\n",
       " 'https://fbref.com//en/squads/7b08e376/2021/Croatia-Men-Stats',\n",
       " 'https://fbref.com//en/squads/b44b9eb7/2021/Albania-Men-Stats',\n",
       " 'https://fbref.com//en/squads/1862c019/2021/England-Men-Stats',\n",
       " 'https://fbref.com//en/squads/29a4e4af/2021/Denmark-Men-Stats',\n",
       " 'https://fbref.com//en/squads/6b9f868f/2021/Slovenia-Men-Stats',\n",
       " 'https://fbref.com//en/squads/1d6f5c9b/2021/Serbia-Men-Stats',\n",
       " 'https://fbref.com//en/squads/5bb5024a/2021/Netherlands-Men-Stats',\n",
       " 'https://fbref.com//en/squads/b1b36dcd/2021/France-Men-Stats',\n",
       " 'https://fbref.com//en/squads/d5121f10/2021/Austria-Men-Stats',\n",
       " 'https://fbref.com//en/squads/8912dcf0/2021/Poland-Men-Stats',\n",
       " 'https://fbref.com//en/squads/7def9493/2021/Romania-Men-Stats',\n",
       " 'https://fbref.com//en/squads/361422b9/2021/Belgium-Men-Stats',\n",
       " 'https://fbref.com//en/squads/66cff10b/2021/Slovakia-Men-Stats',\n",
       " 'https://fbref.com//en/squads/afa29a3e/2021/Ukraine-Men-Stats',\n",
       " 'https://fbref.com//en/squads/4a1b4ea8/2021/Portugal-Men-Stats',\n",
       " 'https://fbref.com//en/squads/ac6bcf92/2021/Turkiye-Men-Stats',\n",
       " 'https://fbref.com//en/squads/2740937c/2021/Czechia-Men-Stats',\n",
       " 'https://fbref.com//en/squads/7158b127/2021/Georgia-Men-Stats']"
      ]
     },
     "execution_count": 76,
     "metadata": {},
     "output_type": "execute_result"
    }
   ],
   "source": [
    "teams_urls = [f\"https://fbref.com/{l}\" for l in links]\n",
    "teams_urls"
   ]
  },
  {
   "cell_type": "code",
   "execution_count": 82,
   "id": "ddf5ddfa-c3cb-4566-9874-b4974a7504c3",
   "metadata": {},
   "outputs": [
    {
     "data": {
      "text/plain": [
       "'https://fbref.com//en/squads/c1e40422/2021/Germany-Men-Stats'"
      ]
     },
     "execution_count": 82,
     "metadata": {},
     "output_type": "execute_result"
    }
   ],
   "source": [
    "\n",
    "    team_url = teams_urls[0] \n",
    "    team_url"
   ]
  },
  {
   "cell_type": "code",
   "execution_count": 84,
   "id": "472f64a9-3855-4691-a37d-2131714a563f",
   "metadata": {},
   "outputs": [
    {
     "data": {
      "text/plain": [
       "'/en/comps/676/2021/2021-European-Championship-Stats'"
      ]
     },
     "execution_count": 84,
     "metadata": {},
     "output_type": "execute_result"
    }
   ],
   "source": [
    "previous_season =   soup.select(\"a.prev\")[0].get(\"href\")\n",
    "previous_season"
   ]
  },
  {
   "cell_type": "code",
   "execution_count": 140,
   "id": "ba4ab8c7-f569-4a1e-bc6b-ac6c4fc23f35",
   "metadata": {},
   "outputs": [],
   "source": [
    "data= requests.get(team_url)\n"
   ]
  },
  {
   "cell_type": "code",
   "execution_count": 27,
   "id": "f1bf1d7b-ecba-401e-b3ad-9ad14c0dc78d",
   "metadata": {},
   "outputs": [],
   "source": [
    "# import pandas as pd\n",
    "# matches = pd.read_html(data.text, match=\"Scores & Fixtures\") # scans the page for tables with the matching string"
   ]
  },
  {
   "cell_type": "code",
   "execution_count": 208,
   "id": "1d306150-5f5a-4c9c-9bd5-ba32cb801e8d",
   "metadata": {},
   "outputs": [
    {
     "data": {
      "text/html": [
       "<div>\n",
       "<style scoped>\n",
       "    .dataframe tbody tr th:only-of-type {\n",
       "        vertical-align: middle;\n",
       "    }\n",
       "\n",
       "    .dataframe tbody tr th {\n",
       "        vertical-align: top;\n",
       "    }\n",
       "\n",
       "    .dataframe thead th {\n",
       "        text-align: right;\n",
       "    }\n",
       "</style>\n",
       "<table border=\"1\" class=\"dataframe\">\n",
       "  <thead>\n",
       "    <tr style=\"text-align: right;\">\n",
       "      <th></th>\n",
       "      <th>Date</th>\n",
       "      <th>Time</th>\n",
       "      <th>Comp</th>\n",
       "      <th>Round</th>\n",
       "      <th>Day</th>\n",
       "      <th>Venue</th>\n",
       "      <th>Result</th>\n",
       "      <th>GF</th>\n",
       "      <th>GA</th>\n",
       "      <th>Opponent</th>\n",
       "      <th>xG</th>\n",
       "      <th>xGA</th>\n",
       "      <th>Poss</th>\n",
       "      <th>Attendance</th>\n",
       "      <th>Captain</th>\n",
       "      <th>Formation</th>\n",
       "      <th>Referee</th>\n",
       "      <th>Match Report</th>\n",
       "      <th>Notes</th>\n",
       "    </tr>\n",
       "  </thead>\n",
       "  <tbody>\n",
       "    <tr>\n",
       "      <th>0</th>\n",
       "      <td>2019-03-24</td>\n",
       "      <td>20:45</td>\n",
       "      <td>UEFA Euro Qualifying</td>\n",
       "      <td>Group stage</td>\n",
       "      <td>Sun</td>\n",
       "      <td>Away</td>\n",
       "      <td>W</td>\n",
       "      <td>3</td>\n",
       "      <td>2</td>\n",
       "      <td>nl Netherlands</td>\n",
       "      <td>NaN</td>\n",
       "      <td>NaN</td>\n",
       "      <td>46.0</td>\n",
       "      <td>51694.0</td>\n",
       "      <td>Manuel Neuer</td>\n",
       "      <td>3-5-2</td>\n",
       "      <td>Jesús Gil</td>\n",
       "      <td>Match Report</td>\n",
       "      <td>NaN</td>\n",
       "    </tr>\n",
       "    <tr>\n",
       "      <th>1</th>\n",
       "      <td>2019-06-08</td>\n",
       "      <td>21:45</td>\n",
       "      <td>UEFA Euro Qualifying</td>\n",
       "      <td>Group stage</td>\n",
       "      <td>Sat</td>\n",
       "      <td>Away</td>\n",
       "      <td>W</td>\n",
       "      <td>2</td>\n",
       "      <td>0</td>\n",
       "      <td>by Belarus</td>\n",
       "      <td>NaN</td>\n",
       "      <td>NaN</td>\n",
       "      <td>75.0</td>\n",
       "      <td>12510.0</td>\n",
       "      <td>Manuel Neuer</td>\n",
       "      <td>4-4-1-1</td>\n",
       "      <td>Srđan Jovanović</td>\n",
       "      <td>Match Report</td>\n",
       "      <td>NaN</td>\n",
       "    </tr>\n",
       "    <tr>\n",
       "      <th>2</th>\n",
       "      <td>2019-06-11</td>\n",
       "      <td>20:45</td>\n",
       "      <td>UEFA Euro Qualifying</td>\n",
       "      <td>Group stage</td>\n",
       "      <td>Tue</td>\n",
       "      <td>Home</td>\n",
       "      <td>W</td>\n",
       "      <td>8</td>\n",
       "      <td>0</td>\n",
       "      <td>ee Estonia</td>\n",
       "      <td>NaN</td>\n",
       "      <td>NaN</td>\n",
       "      <td>82.0</td>\n",
       "      <td>26050.0</td>\n",
       "      <td>Manuel Neuer</td>\n",
       "      <td>4-1-4-1</td>\n",
       "      <td>Ali Palabıyık</td>\n",
       "      <td>Match Report</td>\n",
       "      <td>NaN</td>\n",
       "    </tr>\n",
       "    <tr>\n",
       "      <th>3</th>\n",
       "      <td>2019-09-06</td>\n",
       "      <td>20:45</td>\n",
       "      <td>UEFA Euro Qualifying</td>\n",
       "      <td>Group stage</td>\n",
       "      <td>Fri</td>\n",
       "      <td>Home</td>\n",
       "      <td>L</td>\n",
       "      <td>2</td>\n",
       "      <td>4</td>\n",
       "      <td>nl Netherlands</td>\n",
       "      <td>NaN</td>\n",
       "      <td>NaN</td>\n",
       "      <td>49.0</td>\n",
       "      <td>51299.0</td>\n",
       "      <td>Manuel Neuer</td>\n",
       "      <td>4-1-4-1</td>\n",
       "      <td>Artur Dias</td>\n",
       "      <td>Match Report</td>\n",
       "      <td>NaN</td>\n",
       "    </tr>\n",
       "    <tr>\n",
       "      <th>4</th>\n",
       "      <td>2019-09-09</td>\n",
       "      <td>19:45</td>\n",
       "      <td>UEFA Euro Qualifying</td>\n",
       "      <td>Group stage</td>\n",
       "      <td>Mon</td>\n",
       "      <td>Away</td>\n",
       "      <td>W</td>\n",
       "      <td>2</td>\n",
       "      <td>0</td>\n",
       "      <td>nir Northern Ireland</td>\n",
       "      <td>NaN</td>\n",
       "      <td>NaN</td>\n",
       "      <td>75.0</td>\n",
       "      <td>18326.0</td>\n",
       "      <td>Manuel Neuer</td>\n",
       "      <td>4-3-3</td>\n",
       "      <td>Daniele Orsato</td>\n",
       "      <td>Match Report</td>\n",
       "      <td>NaN</td>\n",
       "    </tr>\n",
       "  </tbody>\n",
       "</table>\n",
       "</div>"
      ],
      "text/plain": [
       "         Date   Time                  Comp        Round  Day Venue Result  GF  \\\n",
       "0  2019-03-24  20:45  UEFA Euro Qualifying  Group stage  Sun  Away      W   3   \n",
       "1  2019-06-08  21:45  UEFA Euro Qualifying  Group stage  Sat  Away      W   2   \n",
       "2  2019-06-11  20:45  UEFA Euro Qualifying  Group stage  Tue  Home      W   8   \n",
       "3  2019-09-06  20:45  UEFA Euro Qualifying  Group stage  Fri  Home      L   2   \n",
       "4  2019-09-09  19:45  UEFA Euro Qualifying  Group stage  Mon  Away      W   2   \n",
       "\n",
       "   GA              Opponent  xG  xGA  Poss  Attendance       Captain  \\\n",
       "0   2        nl Netherlands NaN  NaN  46.0     51694.0  Manuel Neuer   \n",
       "1   0            by Belarus NaN  NaN  75.0     12510.0  Manuel Neuer   \n",
       "2   0            ee Estonia NaN  NaN  82.0     26050.0  Manuel Neuer   \n",
       "3   4        nl Netherlands NaN  NaN  49.0     51299.0  Manuel Neuer   \n",
       "4   0  nir Northern Ireland NaN  NaN  75.0     18326.0  Manuel Neuer   \n",
       "\n",
       "  Formation          Referee  Match Report  Notes  \n",
       "0     3-5-2        Jesús Gil  Match Report    NaN  \n",
       "1   4-4-1-1  Srđan Jovanović  Match Report    NaN  \n",
       "2   4-1-4-1    Ali Palabıyık  Match Report    NaN  \n",
       "3   4-1-4-1       Artur Dias  Match Report    NaN  \n",
       "4     4-3-3   Daniele Orsato  Match Report    NaN  "
      ]
     },
     "execution_count": 208,
     "metadata": {},
     "output_type": "execute_result"
    }
   ],
   "source": [
    "matches[0].head()\n",
    "\n"
   ]
  },
  {
   "cell_type": "code",
   "execution_count": 35,
   "id": "4ee591c5-c598-467c-85d4-24137b44bb2a",
   "metadata": {},
   "outputs": [],
   "source": [
    "soup = BeautifulSoup(data.text)\n",
    "links = soup.find_all('a')"
   ]
  },
  {
   "cell_type": "code",
   "execution_count": 37,
   "id": "6b9d285e-e5e1-4a56-bcc9-b5895162c011",
   "metadata": {},
   "outputs": [],
   "source": [
    "links = [l.get(\"href\") for l in links ]"
   ]
  },
  {
   "cell_type": "code",
   "execution_count": 39,
   "id": "56ccc325-f771-42ed-ad02-11285b7ecc26",
   "metadata": {},
   "outputs": [],
   "source": [
    "links = [l for l in links if l and 'all_comps/shooting/' in l]"
   ]
  },
  {
   "cell_type": "code",
   "execution_count": 41,
   "id": "d4c38f16-680b-4fb3-899d-e71f060fbf36",
   "metadata": {},
   "outputs": [
    {
     "data": {
      "text/plain": [
       "['https://fbref.com/de/squads/4a1b4ea8/2004/matchlogs/all_comps/shooting/Portugal-Men-Match-Logs-All-Competitions',\n",
       " 'https://fbref.com/es/squads/4a1b4ea8/2004/matchlogs/all_comps/shooting/Portugal-Men-Match-Logs-All-Competitions',\n",
       " 'https://fbref.com/en/squads/4a1b4ea8/2004/matchlogs/all_comps/shooting/Portugal-Men-Match-Logs-All-Competitions',\n",
       " 'https://fbref.com/fr/squads/4a1b4ea8/2004/matchlogs/all_comps/shooting/Portugal-Men-Match-Logs-All-Competitions',\n",
       " 'https://fbref.com/pt/squads/4a1b4ea8/2004/matchlogs/all_comps/shooting/Portugal-Men-Match-Logs-All-Competitions',\n",
       " 'https://fbref.com/it/squads/4a1b4ea8/2004/matchlogs/all_comps/shooting/Portugal-Men-Match-Logs-All-Competitions',\n",
       " 'https://fbref.com/de/squads/4a1b4ea8/2004/matchlogs/all_comps/shooting/Portugal-Men-Match-Logs-All-Competitions',\n",
       " 'https://fbref.com/es/squads/4a1b4ea8/2004/matchlogs/all_comps/shooting/Portugal-Men-Match-Logs-All-Competitions',\n",
       " 'https://fbref.com/en/squads/4a1b4ea8/2004/matchlogs/all_comps/shooting/Portugal-Men-Match-Logs-All-Competitions',\n",
       " 'https://fbref.com/fr/squads/4a1b4ea8/2004/matchlogs/all_comps/shooting/Portugal-Men-Match-Logs-All-Competitions',\n",
       " 'https://fbref.com/pt/squads/4a1b4ea8/2004/matchlogs/all_comps/shooting/Portugal-Men-Match-Logs-All-Competitions',\n",
       " 'https://fbref.com/it/squads/4a1b4ea8/2004/matchlogs/all_comps/shooting/Portugal-Men-Match-Logs-All-Competitions']"
      ]
     },
     "execution_count": 41,
     "metadata": {},
     "output_type": "execute_result"
    }
   ],
   "source": [
    "links"
   ]
  },
  {
   "cell_type": "code",
   "execution_count": 43,
   "id": "863f33b3-ed48-475a-9b37-9d9c08fc6a33",
   "metadata": {},
   "outputs": [
    {
     "data": {
      "text/plain": [
       "['https://fbref.com/de/squads/4a1b4ea8/2004/matchlogs/all_comps/shooting/Portugal-Men-Match-Logs-All-Competitions',\n",
       " 'https://fbref.com/es/squads/4a1b4ea8/2004/matchlogs/all_comps/shooting/Portugal-Men-Match-Logs-All-Competitions',\n",
       " 'https://fbref.com/pt/squads/4a1b4ea8/2004/matchlogs/all_comps/shooting/Portugal-Men-Match-Logs-All-Competitions',\n",
       " 'https://fbref.com/fr/squads/4a1b4ea8/2004/matchlogs/all_comps/shooting/Portugal-Men-Match-Logs-All-Competitions',\n",
       " 'https://fbref.com/en/squads/4a1b4ea8/2004/matchlogs/all_comps/shooting/Portugal-Men-Match-Logs-All-Competitions',\n",
       " 'https://fbref.com/it/squads/4a1b4ea8/2004/matchlogs/all_comps/shooting/Portugal-Men-Match-Logs-All-Competitions']"
      ]
     },
     "execution_count": 43,
     "metadata": {},
     "output_type": "execute_result"
    }
   ],
   "source": [
    "links= list(set(links))\n",
    "links"
   ]
  },
  {
   "cell_type": "code",
   "execution_count": 29,
   "id": "d5d9dc62-3b24-4f76-bcdf-115b0cadeb22",
   "metadata": {},
   "outputs": [],
   "source": [
    "# data = requests.get(f\"http://fbref.com{links[0]}\")\n",
    "# data"
   ]
  },
  {
   "cell_type": "code",
   "execution_count": 49,
   "id": "54edba13-3b86-494d-b223-94714a0bdb53",
   "metadata": {},
   "outputs": [
    {
     "name": "stderr",
     "output_type": "stream",
     "text": [
      "C:\\Users\\nitis\\AppData\\Local\\Temp\\ipykernel_22240\\3238581505.py:1: FutureWarning: Passing literal html to 'read_html' is deprecated and will be removed in a future version. To read from a literal string, wrap it in a 'StringIO' object.\n",
      "  shooting = pd.read_html(data.text, match= \"Shooting\")[0]\n"
     ]
    }
   ],
   "source": [
    "shooting = pd.read_html(data.text, match= \"Shooting\")[0]\n"
   ]
  },
  {
   "cell_type": "code",
   "execution_count": 53,
   "id": "c5f2bf69-af76-4474-a5d9-350dcc6a9762",
   "metadata": {},
   "outputs": [
    {
     "name": "stdout",
     "output_type": "stream",
     "text": [
      "Index(['Date', 'Time', 'Comp', 'Round', 'Day', 'Venue', 'Result', 'GF', 'GA',\n",
      "       'Opponent', 'Gls', 'Sh', 'SoT', 'SoT%', 'G/Sh', 'G/SoT', 'Dist', 'PK',\n",
      "       'PKatt', 'Match Report'],\n",
      "      dtype='object')\n"
     ]
    }
   ],
   "source": [
    "print(shooting.columns)\n"
   ]
  },
  {
   "cell_type": "code",
   "execution_count": 51,
   "id": "674a6fd2-713d-4bb9-8c00-cad7e3217c62",
   "metadata": {},
   "outputs": [
    {
     "data": {
      "text/html": [
       "<div>\n",
       "<style scoped>\n",
       "    .dataframe tbody tr th:only-of-type {\n",
       "        vertical-align: middle;\n",
       "    }\n",
       "\n",
       "    .dataframe tbody tr th {\n",
       "        vertical-align: top;\n",
       "    }\n",
       "\n",
       "    .dataframe thead th {\n",
       "        text-align: right;\n",
       "    }\n",
       "</style>\n",
       "<table border=\"1\" class=\"dataframe\">\n",
       "  <thead>\n",
       "    <tr style=\"text-align: right;\">\n",
       "      <th></th>\n",
       "      <th>Date</th>\n",
       "      <th>Time</th>\n",
       "      <th>Comp</th>\n",
       "      <th>Round</th>\n",
       "      <th>Day</th>\n",
       "      <th>Venue</th>\n",
       "      <th>Result</th>\n",
       "      <th>GF</th>\n",
       "      <th>GA</th>\n",
       "      <th>Opponent</th>\n",
       "      <th>Gls</th>\n",
       "      <th>Sh</th>\n",
       "      <th>SoT</th>\n",
       "      <th>SoT%</th>\n",
       "      <th>G/Sh</th>\n",
       "      <th>G/SoT</th>\n",
       "      <th>Dist</th>\n",
       "      <th>PK</th>\n",
       "      <th>PKatt</th>\n",
       "      <th>Match Report</th>\n",
       "    </tr>\n",
       "  </thead>\n",
       "  <tbody>\n",
       "    <tr>\n",
       "      <th>0</th>\n",
       "      <td>2004-06-12</td>\n",
       "      <td>17:00</td>\n",
       "      <td>UEFA Euro</td>\n",
       "      <td>Group stage</td>\n",
       "      <td>Sat</td>\n",
       "      <td>Home</td>\n",
       "      <td>L</td>\n",
       "      <td>1</td>\n",
       "      <td>2</td>\n",
       "      <td>gr Greece</td>\n",
       "      <td>1</td>\n",
       "      <td>NaN</td>\n",
       "      <td>NaN</td>\n",
       "      <td>NaN</td>\n",
       "      <td>NaN</td>\n",
       "      <td>NaN</td>\n",
       "      <td>NaN</td>\n",
       "      <td>0</td>\n",
       "      <td>0</td>\n",
       "      <td>Match Report</td>\n",
       "    </tr>\n",
       "    <tr>\n",
       "      <th>1</th>\n",
       "      <td>2004-06-16</td>\n",
       "      <td>19:45</td>\n",
       "      <td>UEFA Euro</td>\n",
       "      <td>Group stage</td>\n",
       "      <td>Wed</td>\n",
       "      <td>Away</td>\n",
       "      <td>W</td>\n",
       "      <td>2</td>\n",
       "      <td>0</td>\n",
       "      <td>ru Russia</td>\n",
       "      <td>2</td>\n",
       "      <td>NaN</td>\n",
       "      <td>NaN</td>\n",
       "      <td>NaN</td>\n",
       "      <td>NaN</td>\n",
       "      <td>NaN</td>\n",
       "      <td>NaN</td>\n",
       "      <td>0</td>\n",
       "      <td>0</td>\n",
       "      <td>Match Report</td>\n",
       "    </tr>\n",
       "    <tr>\n",
       "      <th>2</th>\n",
       "      <td>2004-06-20</td>\n",
       "      <td>19:45</td>\n",
       "      <td>UEFA Euro</td>\n",
       "      <td>Group stage</td>\n",
       "      <td>Sun</td>\n",
       "      <td>Away</td>\n",
       "      <td>W</td>\n",
       "      <td>1</td>\n",
       "      <td>0</td>\n",
       "      <td>es Spain</td>\n",
       "      <td>1</td>\n",
       "      <td>NaN</td>\n",
       "      <td>NaN</td>\n",
       "      <td>NaN</td>\n",
       "      <td>NaN</td>\n",
       "      <td>NaN</td>\n",
       "      <td>NaN</td>\n",
       "      <td>0</td>\n",
       "      <td>0</td>\n",
       "      <td>Match Report</td>\n",
       "    </tr>\n",
       "    <tr>\n",
       "      <th>3</th>\n",
       "      <td>2004-06-24</td>\n",
       "      <td>19:45</td>\n",
       "      <td>UEFA Euro</td>\n",
       "      <td>Quarter-finals</td>\n",
       "      <td>Thu</td>\n",
       "      <td>Home</td>\n",
       "      <td>D</td>\n",
       "      <td>2 (6)</td>\n",
       "      <td>2 (5)</td>\n",
       "      <td>eng England</td>\n",
       "      <td>2</td>\n",
       "      <td>NaN</td>\n",
       "      <td>NaN</td>\n",
       "      <td>NaN</td>\n",
       "      <td>NaN</td>\n",
       "      <td>NaN</td>\n",
       "      <td>NaN</td>\n",
       "      <td>0</td>\n",
       "      <td>0</td>\n",
       "      <td>Match Report</td>\n",
       "    </tr>\n",
       "    <tr>\n",
       "      <th>4</th>\n",
       "      <td>2004-06-30</td>\n",
       "      <td>19:45</td>\n",
       "      <td>UEFA Euro</td>\n",
       "      <td>Semi-finals</td>\n",
       "      <td>Wed</td>\n",
       "      <td>Home</td>\n",
       "      <td>W</td>\n",
       "      <td>2</td>\n",
       "      <td>1</td>\n",
       "      <td>nl Netherlands</td>\n",
       "      <td>2</td>\n",
       "      <td>NaN</td>\n",
       "      <td>NaN</td>\n",
       "      <td>NaN</td>\n",
       "      <td>NaN</td>\n",
       "      <td>NaN</td>\n",
       "      <td>NaN</td>\n",
       "      <td>0</td>\n",
       "      <td>0</td>\n",
       "      <td>Match Report</td>\n",
       "    </tr>\n",
       "  </tbody>\n",
       "</table>\n",
       "</div>"
      ],
      "text/plain": [
       "         Date   Time       Comp           Round  Day Venue Result     GF  \\\n",
       "0  2004-06-12  17:00  UEFA Euro     Group stage  Sat  Home      L      1   \n",
       "1  2004-06-16  19:45  UEFA Euro     Group stage  Wed  Away      W      2   \n",
       "2  2004-06-20  19:45  UEFA Euro     Group stage  Sun  Away      W      1   \n",
       "3  2004-06-24  19:45  UEFA Euro  Quarter-finals  Thu  Home      D  2 (6)   \n",
       "4  2004-06-30  19:45  UEFA Euro     Semi-finals  Wed  Home      W      2   \n",
       "\n",
       "      GA        Opponent  Gls  Sh  SoT  SoT%  G/Sh  G/SoT  Dist  PK  PKatt  \\\n",
       "0      2       gr Greece    1 NaN  NaN   NaN   NaN    NaN   NaN   0      0   \n",
       "1      0       ru Russia    2 NaN  NaN   NaN   NaN    NaN   NaN   0      0   \n",
       "2      0        es Spain    1 NaN  NaN   NaN   NaN    NaN   NaN   0      0   \n",
       "3  2 (5)     eng England    2 NaN  NaN   NaN   NaN    NaN   NaN   0      0   \n",
       "4      1  nl Netherlands    2 NaN  NaN   NaN   NaN    NaN   NaN   0      0   \n",
       "\n",
       "   Match Report  \n",
       "0  Match Report  \n",
       "1  Match Report  \n",
       "2  Match Report  \n",
       "3  Match Report  \n",
       "4  Match Report  "
      ]
     },
     "execution_count": 51,
     "metadata": {},
     "output_type": "execute_result"
    }
   ],
   "source": [
    "shooting.columns = shooting.columns.droplevel()\n",
    "shooting.head()"
   ]
  },
  {
   "cell_type": "code",
   "execution_count": 214,
   "id": "85e85442-71e1-4ee6-88dc-f9aefc5e8b26",
   "metadata": {},
   "outputs": [
    {
     "data": {
      "text/html": [
       "<div>\n",
       "<style scoped>\n",
       "    .dataframe tbody tr th:only-of-type {\n",
       "        vertical-align: middle;\n",
       "    }\n",
       "\n",
       "    .dataframe tbody tr th {\n",
       "        vertical-align: top;\n",
       "    }\n",
       "\n",
       "    .dataframe thead th {\n",
       "        text-align: right;\n",
       "    }\n",
       "</style>\n",
       "<table border=\"1\" class=\"dataframe\">\n",
       "  <thead>\n",
       "    <tr style=\"text-align: right;\">\n",
       "      <th></th>\n",
       "      <th>Date</th>\n",
       "      <th>Time</th>\n",
       "      <th>Comp</th>\n",
       "      <th>Round</th>\n",
       "      <th>Day</th>\n",
       "      <th>Venue</th>\n",
       "      <th>Result</th>\n",
       "      <th>GF</th>\n",
       "      <th>GA</th>\n",
       "      <th>Opponent</th>\n",
       "      <th>...</th>\n",
       "      <th>Formation</th>\n",
       "      <th>Referee</th>\n",
       "      <th>Match Report</th>\n",
       "      <th>Notes</th>\n",
       "      <th>Sh</th>\n",
       "      <th>SoT</th>\n",
       "      <th>Dist</th>\n",
       "      <th>FK</th>\n",
       "      <th>PK</th>\n",
       "      <th>PKatt</th>\n",
       "    </tr>\n",
       "  </thead>\n",
       "  <tbody>\n",
       "    <tr>\n",
       "      <th>0</th>\n",
       "      <td>2019-03-24</td>\n",
       "      <td>20:45</td>\n",
       "      <td>UEFA Euro Qualifying</td>\n",
       "      <td>Group stage</td>\n",
       "      <td>Sun</td>\n",
       "      <td>Away</td>\n",
       "      <td>W</td>\n",
       "      <td>3</td>\n",
       "      <td>2</td>\n",
       "      <td>nl Netherlands</td>\n",
       "      <td>...</td>\n",
       "      <td>3-5-2</td>\n",
       "      <td>Jesús Gil</td>\n",
       "      <td>Match Report</td>\n",
       "      <td>NaN</td>\n",
       "      <td>11.0</td>\n",
       "      <td>7.0</td>\n",
       "      <td>NaN</td>\n",
       "      <td>NaN</td>\n",
       "      <td>0</td>\n",
       "      <td>0</td>\n",
       "    </tr>\n",
       "    <tr>\n",
       "      <th>1</th>\n",
       "      <td>2019-06-08</td>\n",
       "      <td>21:45</td>\n",
       "      <td>UEFA Euro Qualifying</td>\n",
       "      <td>Group stage</td>\n",
       "      <td>Sat</td>\n",
       "      <td>Away</td>\n",
       "      <td>W</td>\n",
       "      <td>2</td>\n",
       "      <td>0</td>\n",
       "      <td>by Belarus</td>\n",
       "      <td>...</td>\n",
       "      <td>4-4-1-1</td>\n",
       "      <td>Srđan Jovanović</td>\n",
       "      <td>Match Report</td>\n",
       "      <td>NaN</td>\n",
       "      <td>23.0</td>\n",
       "      <td>5.0</td>\n",
       "      <td>NaN</td>\n",
       "      <td>NaN</td>\n",
       "      <td>0</td>\n",
       "      <td>0</td>\n",
       "    </tr>\n",
       "    <tr>\n",
       "      <th>2</th>\n",
       "      <td>2019-06-11</td>\n",
       "      <td>20:45</td>\n",
       "      <td>UEFA Euro Qualifying</td>\n",
       "      <td>Group stage</td>\n",
       "      <td>Tue</td>\n",
       "      <td>Home</td>\n",
       "      <td>W</td>\n",
       "      <td>8</td>\n",
       "      <td>0</td>\n",
       "      <td>ee Estonia</td>\n",
       "      <td>...</td>\n",
       "      <td>4-1-4-1</td>\n",
       "      <td>Ali Palabıyık</td>\n",
       "      <td>Match Report</td>\n",
       "      <td>NaN</td>\n",
       "      <td>27.0</td>\n",
       "      <td>17.0</td>\n",
       "      <td>NaN</td>\n",
       "      <td>NaN</td>\n",
       "      <td>1</td>\n",
       "      <td>1</td>\n",
       "    </tr>\n",
       "    <tr>\n",
       "      <th>3</th>\n",
       "      <td>2019-09-06</td>\n",
       "      <td>20:45</td>\n",
       "      <td>UEFA Euro Qualifying</td>\n",
       "      <td>Group stage</td>\n",
       "      <td>Fri</td>\n",
       "      <td>Home</td>\n",
       "      <td>L</td>\n",
       "      <td>2</td>\n",
       "      <td>4</td>\n",
       "      <td>nl Netherlands</td>\n",
       "      <td>...</td>\n",
       "      <td>4-1-4-1</td>\n",
       "      <td>Artur Dias</td>\n",
       "      <td>Match Report</td>\n",
       "      <td>NaN</td>\n",
       "      <td>12.0</td>\n",
       "      <td>5.0</td>\n",
       "      <td>NaN</td>\n",
       "      <td>NaN</td>\n",
       "      <td>1</td>\n",
       "      <td>1</td>\n",
       "    </tr>\n",
       "    <tr>\n",
       "      <th>4</th>\n",
       "      <td>2019-09-09</td>\n",
       "      <td>19:45</td>\n",
       "      <td>UEFA Euro Qualifying</td>\n",
       "      <td>Group stage</td>\n",
       "      <td>Mon</td>\n",
       "      <td>Away</td>\n",
       "      <td>W</td>\n",
       "      <td>2</td>\n",
       "      <td>0</td>\n",
       "      <td>nir Northern Ireland</td>\n",
       "      <td>...</td>\n",
       "      <td>4-3-3</td>\n",
       "      <td>Daniele Orsato</td>\n",
       "      <td>Match Report</td>\n",
       "      <td>NaN</td>\n",
       "      <td>20.0</td>\n",
       "      <td>7.0</td>\n",
       "      <td>NaN</td>\n",
       "      <td>NaN</td>\n",
       "      <td>0</td>\n",
       "      <td>0</td>\n",
       "    </tr>\n",
       "  </tbody>\n",
       "</table>\n",
       "<p>5 rows × 25 columns</p>\n",
       "</div>"
      ],
      "text/plain": [
       "         Date   Time                  Comp        Round  Day Venue Result  GF  \\\n",
       "0  2019-03-24  20:45  UEFA Euro Qualifying  Group stage  Sun  Away      W   3   \n",
       "1  2019-06-08  21:45  UEFA Euro Qualifying  Group stage  Sat  Away      W   2   \n",
       "2  2019-06-11  20:45  UEFA Euro Qualifying  Group stage  Tue  Home      W   8   \n",
       "3  2019-09-06  20:45  UEFA Euro Qualifying  Group stage  Fri  Home      L   2   \n",
       "4  2019-09-09  19:45  UEFA Euro Qualifying  Group stage  Mon  Away      W   2   \n",
       "\n",
       "   GA              Opponent  ...  Formation          Referee  Match Report  \\\n",
       "0   2        nl Netherlands  ...      3-5-2        Jesús Gil  Match Report   \n",
       "1   0            by Belarus  ...    4-4-1-1  Srđan Jovanović  Match Report   \n",
       "2   0            ee Estonia  ...    4-1-4-1    Ali Palabıyık  Match Report   \n",
       "3   4        nl Netherlands  ...    4-1-4-1       Artur Dias  Match Report   \n",
       "4   0  nir Northern Ireland  ...      4-3-3   Daniele Orsato  Match Report   \n",
       "\n",
       "   Notes    Sh   SoT Dist  FK  PK  PKatt  \n",
       "0    NaN  11.0   7.0  NaN NaN   0      0  \n",
       "1    NaN  23.0   5.0  NaN NaN   0      0  \n",
       "2    NaN  27.0  17.0  NaN NaN   1      1  \n",
       "3    NaN  12.0   5.0  NaN NaN   1      1  \n",
       "4    NaN  20.0   7.0  NaN NaN   0      0  \n",
       "\n",
       "[5 rows x 25 columns]"
      ]
     },
     "execution_count": 214,
     "metadata": {},
     "output_type": "execute_result"
    }
   ],
   "source": [
    "team_data =  matches[0].merge(shooting[[\"Date\", \"Sh\" , \"SoT\", \"Dist\", \"FK\", \"PK\", \"PKatt\" ]], on = \"Date\")\n",
    "team_data.head()"
   ]
  },
  {
   "cell_type": "code",
   "execution_count": 218,
   "id": "b79ea0e9-f422-48e1-a314-10a8163bc065",
   "metadata": {},
   "outputs": [
    {
     "name": "stdout",
     "output_type": "stream",
     "text": [
      "(14, 25)\n",
      "(14, 19)\n",
      "(15, 26)\n"
     ]
    }
   ],
   "source": [
    "print(team_data.shape)\n",
    "print(matches[0].shape)\n",
    "print(shooting.shape)"
   ]
  },
  {
   "cell_type": "code",
   "execution_count": 10,
   "id": "8e08e68d-faf4-4cfb-a098-4d4dc1390d2d",
   "metadata": {},
   "outputs": [
    {
     "data": {
      "text/plain": [
       "[2024, 2020, 2016]"
      ]
     },
     "execution_count": 10,
     "metadata": {},
     "output_type": "execute_result"
    }
   ],
   "source": [
    "years = list(range(2024,2015, -4))\n",
    "years\n"
   ]
  },
  {
   "cell_type": "code",
   "execution_count": 12,
   "id": "c8db2ab1-04bd-4f36-abaa-f89aa49f578e",
   "metadata": {},
   "outputs": [],
   "source": [
    "import pandas as pd\n",
    "all_matches = []\n",
    "standings_url = \"https://fbref.com/en/comps/676/European-Championship-Stats#all_Group%20stage\""
   ]
  },
  {
   "cell_type": "code",
   "execution_count": 8,
   "id": "4b945595-4e4d-4014-8017-4bf210ebaa2c",
   "metadata": {},
   "outputs": [
    {
     "name": "stdout",
     "output_type": "stream",
     "text": [
      "Defaulting to user installation because normal site-packages is not writeable\n",
      "Requirement already satisfied: html5 in c:\\programdata\\anaconda3\\lib\\site-packages (0.0.9)\n",
      "Requirement already satisfied: setuptools>=18.5 in c:\\programdata\\anaconda3\\lib\\site-packages (from html5) (68.2.2)\n",
      "Requirement already satisfied: six in c:\\programdata\\anaconda3\\lib\\site-packages (from html5) (1.16.0)\n",
      "Requirement already satisfied: webencodings in c:\\programdata\\anaconda3\\lib\\site-packages (from html5) (0.5.1)\n",
      "Note: you may need to restart the kernel to use updated packages.\n"
     ]
    }
   ],
   "source": [
    "pip install html5"
   ]
  },
  {
   "cell_type": "code",
   "execution_count": 14,
   "id": "dcdec700-c638-4f79-9f53-269986f0a200",
   "metadata": {},
   "outputs": [
    {
     "name": "stderr",
     "output_type": "stream",
     "text": [
      "C:\\Users\\nitis\\AppData\\Local\\Temp\\ipykernel_24896\\2851806276.py:16: FutureWarning: Passing literal html to 'read_html' is deprecated and will be removed in a future version. To read from a literal string, wrap it in a 'StringIO' object.\n",
      "  matches = pd.read_html(data.text, match=\"Scores & Fixtures\")[0]\n",
      "C:\\Users\\nitis\\AppData\\Local\\Temp\\ipykernel_24896\\2851806276.py:22: FutureWarning: Passing literal html to 'read_html' is deprecated and will be removed in a future version. To read from a literal string, wrap it in a 'StringIO' object.\n",
      "  shooting = pd.read_html(data.text, match= \"Shooting\")[0]\n"
     ]
    },
    {
     "ename": "ImportError",
     "evalue": "Missing optional dependency 'html5lib'.  Use pip or conda to install html5lib.",
     "output_type": "error",
     "traceback": [
      "\u001b[1;31m---------------------------------------------------------------------------\u001b[0m",
      "\u001b[1;31mImportError\u001b[0m                               Traceback (most recent call last)",
      "File \u001b[1;32mC:\\ProgramData\\anaconda3\\Lib\\site-packages\\pandas\\compat\\_optional.py:132\u001b[0m, in \u001b[0;36mimport_optional_dependency\u001b[1;34m(name, extra, errors, min_version)\u001b[0m\n\u001b[0;32m    131\u001b[0m \u001b[38;5;28;01mtry\u001b[39;00m:\n\u001b[1;32m--> 132\u001b[0m     module \u001b[38;5;241m=\u001b[39m importlib\u001b[38;5;241m.\u001b[39mimport_module(name)\n\u001b[0;32m    133\u001b[0m \u001b[38;5;28;01mexcept\u001b[39;00m \u001b[38;5;167;01mImportError\u001b[39;00m:\n",
      "File \u001b[1;32mC:\\ProgramData\\anaconda3\\Lib\\importlib\\__init__.py:126\u001b[0m, in \u001b[0;36mimport_module\u001b[1;34m(name, package)\u001b[0m\n\u001b[0;32m    125\u001b[0m         level \u001b[38;5;241m+\u001b[39m\u001b[38;5;241m=\u001b[39m \u001b[38;5;241m1\u001b[39m\n\u001b[1;32m--> 126\u001b[0m \u001b[38;5;28;01mreturn\u001b[39;00m _bootstrap\u001b[38;5;241m.\u001b[39m_gcd_import(name[level:], package, level)\n",
      "File \u001b[1;32m<frozen importlib._bootstrap>:1204\u001b[0m, in \u001b[0;36m_gcd_import\u001b[1;34m(name, package, level)\u001b[0m\n",
      "File \u001b[1;32m<frozen importlib._bootstrap>:1176\u001b[0m, in \u001b[0;36m_find_and_load\u001b[1;34m(name, import_)\u001b[0m\n",
      "File \u001b[1;32m<frozen importlib._bootstrap>:1147\u001b[0m, in \u001b[0;36m_find_and_load_unlocked\u001b[1;34m(name, import_)\u001b[0m\n",
      "File \u001b[1;32m<frozen importlib._bootstrap>:690\u001b[0m, in \u001b[0;36m_load_unlocked\u001b[1;34m(spec)\u001b[0m\n",
      "File \u001b[1;32m<frozen importlib._bootstrap_external>:940\u001b[0m, in \u001b[0;36mexec_module\u001b[1;34m(self, module)\u001b[0m\n",
      "File \u001b[1;32m<frozen importlib._bootstrap>:241\u001b[0m, in \u001b[0;36m_call_with_frames_removed\u001b[1;34m(f, *args, **kwds)\u001b[0m\n",
      "File \u001b[1;32mC:\\ProgramData\\anaconda3\\Lib\\site-packages\\html5lib\\__init__.py:16\u001b[0m\n\u001b[0;32m     14\u001b[0m \u001b[38;5;28;01mfrom\u001b[39;00m \u001b[38;5;21;01m__future__\u001b[39;00m \u001b[38;5;28;01mimport\u001b[39;00m absolute_import, division, unicode_literals\n\u001b[1;32m---> 16\u001b[0m \u001b[38;5;28;01mfrom\u001b[39;00m \u001b[38;5;21;01m.\u001b[39;00m\u001b[38;5;21;01mhtml5parser\u001b[39;00m \u001b[38;5;28;01mimport\u001b[39;00m HTMLParser, parse, parseFragment\n\u001b[0;32m     17\u001b[0m \u001b[38;5;28;01mfrom\u001b[39;00m \u001b[38;5;21;01m.\u001b[39;00m\u001b[38;5;21;01mtreebuilders\u001b[39;00m \u001b[38;5;28;01mimport\u001b[39;00m getTreeBuilder\n",
      "File \u001b[1;32mC:\\ProgramData\\anaconda3\\Lib\\site-packages\\html5lib\\html5parser.py:12\u001b[0m\n\u001b[0;32m     11\u001b[0m \u001b[38;5;28;01mfrom\u001b[39;00m \u001b[38;5;21;01m.\u001b[39;00m \u001b[38;5;28;01mimport\u001b[39;00m _inputstream\n\u001b[1;32m---> 12\u001b[0m \u001b[38;5;28;01mfrom\u001b[39;00m \u001b[38;5;21;01m.\u001b[39;00m \u001b[38;5;28;01mimport\u001b[39;00m _tokenizer\n\u001b[0;32m     14\u001b[0m \u001b[38;5;28;01mfrom\u001b[39;00m \u001b[38;5;21;01m.\u001b[39;00m \u001b[38;5;28;01mimport\u001b[39;00m treebuilders\n",
      "File \u001b[1;32mC:\\ProgramData\\anaconda3\\Lib\\site-packages\\html5lib\\_tokenizer.py:16\u001b[0m\n\u001b[0;32m     14\u001b[0m \u001b[38;5;28;01mfrom\u001b[39;00m \u001b[38;5;21;01m.\u001b[39;00m\u001b[38;5;21;01m_inputstream\u001b[39;00m \u001b[38;5;28;01mimport\u001b[39;00m HTMLInputStream\n\u001b[1;32m---> 16\u001b[0m \u001b[38;5;28;01mfrom\u001b[39;00m \u001b[38;5;21;01m.\u001b[39;00m\u001b[38;5;21;01m_trie\u001b[39;00m \u001b[38;5;28;01mimport\u001b[39;00m Trie\n\u001b[0;32m     18\u001b[0m entitiesTrie \u001b[38;5;241m=\u001b[39m Trie(entities)\n",
      "File \u001b[1;32mC:\\ProgramData\\anaconda3\\Lib\\site-packages\\html5lib\\_trie\\__init__.py:3\u001b[0m\n\u001b[0;32m      1\u001b[0m \u001b[38;5;28;01mfrom\u001b[39;00m \u001b[38;5;21;01m__future__\u001b[39;00m \u001b[38;5;28;01mimport\u001b[39;00m absolute_import, division, unicode_literals\n\u001b[1;32m----> 3\u001b[0m \u001b[38;5;28;01mfrom\u001b[39;00m \u001b[38;5;21;01m.\u001b[39;00m\u001b[38;5;21;01mpy\u001b[39;00m \u001b[38;5;28;01mimport\u001b[39;00m Trie \u001b[38;5;28;01mas\u001b[39;00m PyTrie\n\u001b[0;32m      5\u001b[0m Trie \u001b[38;5;241m=\u001b[39m PyTrie\n",
      "File \u001b[1;32mC:\\ProgramData\\anaconda3\\Lib\\site-packages\\html5lib\\_trie\\py.py:6\u001b[0m\n\u001b[0;32m      4\u001b[0m \u001b[38;5;28;01mfrom\u001b[39;00m \u001b[38;5;21;01mbisect\u001b[39;00m \u001b[38;5;28;01mimport\u001b[39;00m bisect_left\n\u001b[1;32m----> 6\u001b[0m \u001b[38;5;28;01mfrom\u001b[39;00m \u001b[38;5;21;01m.\u001b[39;00m\u001b[38;5;21;01m_base\u001b[39;00m \u001b[38;5;28;01mimport\u001b[39;00m Trie \u001b[38;5;28;01mas\u001b[39;00m ABCTrie\n\u001b[0;32m      9\u001b[0m \u001b[38;5;28;01mclass\u001b[39;00m \u001b[38;5;21;01mTrie\u001b[39;00m(ABCTrie):\n",
      "File \u001b[1;32mC:\\ProgramData\\anaconda3\\Lib\\site-packages\\html5lib\\_trie\\_base.py:3\u001b[0m\n\u001b[0;32m      1\u001b[0m \u001b[38;5;28;01mfrom\u001b[39;00m \u001b[38;5;21;01m__future__\u001b[39;00m \u001b[38;5;28;01mimport\u001b[39;00m absolute_import, division, unicode_literals\n\u001b[1;32m----> 3\u001b[0m \u001b[38;5;28;01mfrom\u001b[39;00m \u001b[38;5;21;01mcollections\u001b[39;00m \u001b[38;5;28;01mimport\u001b[39;00m Mapping\n\u001b[0;32m      6\u001b[0m \u001b[38;5;28;01mclass\u001b[39;00m \u001b[38;5;21;01mTrie\u001b[39;00m(Mapping):\n",
      "\u001b[1;31mImportError\u001b[0m: cannot import name 'Mapping' from 'collections' (C:\\ProgramData\\anaconda3\\Lib\\collections\\__init__.py)",
      "\nDuring handling of the above exception, another exception occurred:\n",
      "\u001b[1;31mImportError\u001b[0m                               Traceback (most recent call last)",
      "Cell \u001b[1;32mIn[14], line 22\u001b[0m\n\u001b[0;32m     20\u001b[0m links \u001b[38;5;241m=\u001b[39m [l \u001b[38;5;28;01mfor\u001b[39;00m l \u001b[38;5;129;01min\u001b[39;00m links \u001b[38;5;28;01mif\u001b[39;00m l \u001b[38;5;129;01mand\u001b[39;00m \u001b[38;5;124m'\u001b[39m\u001b[38;5;124mall_comps/shooting/\u001b[39m\u001b[38;5;124m'\u001b[39m \u001b[38;5;129;01min\u001b[39;00m l]\n\u001b[0;32m     21\u001b[0m data \u001b[38;5;241m=\u001b[39m requests\u001b[38;5;241m.\u001b[39mget(\u001b[38;5;124mf\u001b[39m\u001b[38;5;124m\"\u001b[39m\u001b[38;5;124mhttp://fbref.com\u001b[39m\u001b[38;5;132;01m{\u001b[39;00mlinks[\u001b[38;5;241m0\u001b[39m]\u001b[38;5;132;01m}\u001b[39;00m\u001b[38;5;124m\"\u001b[39m)\n\u001b[1;32m---> 22\u001b[0m shooting \u001b[38;5;241m=\u001b[39m pd\u001b[38;5;241m.\u001b[39mread_html(data\u001b[38;5;241m.\u001b[39mtext, match\u001b[38;5;241m=\u001b[39m \u001b[38;5;124m\"\u001b[39m\u001b[38;5;124mShooting\u001b[39m\u001b[38;5;124m\"\u001b[39m)[\u001b[38;5;241m0\u001b[39m]\n\u001b[0;32m     23\u001b[0m shooting\u001b[38;5;241m.\u001b[39mcolumns \u001b[38;5;241m=\u001b[39m shooting\u001b[38;5;241m.\u001b[39mcolumns\u001b[38;5;241m.\u001b[39mdroplevel()\n\u001b[0;32m     24\u001b[0m \u001b[38;5;28;01mtry\u001b[39;00m:\n",
      "File \u001b[1;32mC:\\ProgramData\\anaconda3\\Lib\\site-packages\\pandas\\io\\html.py:1245\u001b[0m, in \u001b[0;36mread_html\u001b[1;34m(io, match, flavor, header, index_col, skiprows, attrs, parse_dates, thousands, encoding, decimal, converters, na_values, keep_default_na, displayed_only, extract_links, dtype_backend, storage_options)\u001b[0m\n\u001b[0;32m   1229\u001b[0m \u001b[38;5;28;01mif\u001b[39;00m \u001b[38;5;28misinstance\u001b[39m(io, \u001b[38;5;28mstr\u001b[39m) \u001b[38;5;129;01mand\u001b[39;00m \u001b[38;5;129;01mnot\u001b[39;00m \u001b[38;5;28many\u001b[39m(\n\u001b[0;32m   1230\u001b[0m     [\n\u001b[0;32m   1231\u001b[0m         is_file_like(io),\n\u001b[1;32m   (...)\u001b[0m\n\u001b[0;32m   1235\u001b[0m     ]\n\u001b[0;32m   1236\u001b[0m ):\n\u001b[0;32m   1237\u001b[0m     warnings\u001b[38;5;241m.\u001b[39mwarn(\n\u001b[0;32m   1238\u001b[0m         \u001b[38;5;124m\"\u001b[39m\u001b[38;5;124mPassing literal html to \u001b[39m\u001b[38;5;124m'\u001b[39m\u001b[38;5;124mread_html\u001b[39m\u001b[38;5;124m'\u001b[39m\u001b[38;5;124m is deprecated and \u001b[39m\u001b[38;5;124m\"\u001b[39m\n\u001b[0;32m   1239\u001b[0m         \u001b[38;5;124m\"\u001b[39m\u001b[38;5;124mwill be removed in a future version. To read from a \u001b[39m\u001b[38;5;124m\"\u001b[39m\n\u001b[1;32m   (...)\u001b[0m\n\u001b[0;32m   1242\u001b[0m         stacklevel\u001b[38;5;241m=\u001b[39mfind_stack_level(),\n\u001b[0;32m   1243\u001b[0m     )\n\u001b[1;32m-> 1245\u001b[0m \u001b[38;5;28;01mreturn\u001b[39;00m _parse(\n\u001b[0;32m   1246\u001b[0m     flavor\u001b[38;5;241m=\u001b[39mflavor,\n\u001b[0;32m   1247\u001b[0m     io\u001b[38;5;241m=\u001b[39mio,\n\u001b[0;32m   1248\u001b[0m     match\u001b[38;5;241m=\u001b[39mmatch,\n\u001b[0;32m   1249\u001b[0m     header\u001b[38;5;241m=\u001b[39mheader,\n\u001b[0;32m   1250\u001b[0m     index_col\u001b[38;5;241m=\u001b[39mindex_col,\n\u001b[0;32m   1251\u001b[0m     skiprows\u001b[38;5;241m=\u001b[39mskiprows,\n\u001b[0;32m   1252\u001b[0m     parse_dates\u001b[38;5;241m=\u001b[39mparse_dates,\n\u001b[0;32m   1253\u001b[0m     thousands\u001b[38;5;241m=\u001b[39mthousands,\n\u001b[0;32m   1254\u001b[0m     attrs\u001b[38;5;241m=\u001b[39mattrs,\n\u001b[0;32m   1255\u001b[0m     encoding\u001b[38;5;241m=\u001b[39mencoding,\n\u001b[0;32m   1256\u001b[0m     decimal\u001b[38;5;241m=\u001b[39mdecimal,\n\u001b[0;32m   1257\u001b[0m     converters\u001b[38;5;241m=\u001b[39mconverters,\n\u001b[0;32m   1258\u001b[0m     na_values\u001b[38;5;241m=\u001b[39mna_values,\n\u001b[0;32m   1259\u001b[0m     keep_default_na\u001b[38;5;241m=\u001b[39mkeep_default_na,\n\u001b[0;32m   1260\u001b[0m     displayed_only\u001b[38;5;241m=\u001b[39mdisplayed_only,\n\u001b[0;32m   1261\u001b[0m     extract_links\u001b[38;5;241m=\u001b[39mextract_links,\n\u001b[0;32m   1262\u001b[0m     dtype_backend\u001b[38;5;241m=\u001b[39mdtype_backend,\n\u001b[0;32m   1263\u001b[0m     storage_options\u001b[38;5;241m=\u001b[39mstorage_options,\n\u001b[0;32m   1264\u001b[0m )\n",
      "File \u001b[1;32mC:\\ProgramData\\anaconda3\\Lib\\site-packages\\pandas\\io\\html.py:976\u001b[0m, in \u001b[0;36m_parse\u001b[1;34m(flavor, io, match, attrs, encoding, displayed_only, extract_links, storage_options, **kwargs)\u001b[0m\n\u001b[0;32m    974\u001b[0m retained \u001b[38;5;241m=\u001b[39m \u001b[38;5;28;01mNone\u001b[39;00m\n\u001b[0;32m    975\u001b[0m \u001b[38;5;28;01mfor\u001b[39;00m flav \u001b[38;5;129;01min\u001b[39;00m flavor:\n\u001b[1;32m--> 976\u001b[0m     parser \u001b[38;5;241m=\u001b[39m _parser_dispatch(flav)\n\u001b[0;32m    977\u001b[0m     p \u001b[38;5;241m=\u001b[39m parser(\n\u001b[0;32m    978\u001b[0m         io,\n\u001b[0;32m    979\u001b[0m         compiled_match,\n\u001b[1;32m   (...)\u001b[0m\n\u001b[0;32m    984\u001b[0m         storage_options,\n\u001b[0;32m    985\u001b[0m     )\n\u001b[0;32m    987\u001b[0m     \u001b[38;5;28;01mtry\u001b[39;00m:\n",
      "File \u001b[1;32mC:\\ProgramData\\anaconda3\\Lib\\site-packages\\pandas\\io\\html.py:920\u001b[0m, in \u001b[0;36m_parser_dispatch\u001b[1;34m(flavor)\u001b[0m\n\u001b[0;32m    915\u001b[0m     \u001b[38;5;28;01mraise\u001b[39;00m \u001b[38;5;167;01mValueError\u001b[39;00m(\n\u001b[0;32m    916\u001b[0m         \u001b[38;5;124mf\u001b[39m\u001b[38;5;124m\"\u001b[39m\u001b[38;5;132;01m{\u001b[39;00m\u001b[38;5;28mrepr\u001b[39m(flavor)\u001b[38;5;132;01m}\u001b[39;00m\u001b[38;5;124m is not a valid flavor, valid flavors are \u001b[39m\u001b[38;5;132;01m{\u001b[39;00mvalid_parsers\u001b[38;5;132;01m}\u001b[39;00m\u001b[38;5;124m\"\u001b[39m\n\u001b[0;32m    917\u001b[0m     )\n\u001b[0;32m    919\u001b[0m \u001b[38;5;28;01mif\u001b[39;00m flavor \u001b[38;5;129;01min\u001b[39;00m (\u001b[38;5;124m\"\u001b[39m\u001b[38;5;124mbs4\u001b[39m\u001b[38;5;124m\"\u001b[39m, \u001b[38;5;124m\"\u001b[39m\u001b[38;5;124mhtml5lib\u001b[39m\u001b[38;5;124m\"\u001b[39m):\n\u001b[1;32m--> 920\u001b[0m     import_optional_dependency(\u001b[38;5;124m\"\u001b[39m\u001b[38;5;124mhtml5lib\u001b[39m\u001b[38;5;124m\"\u001b[39m)\n\u001b[0;32m    921\u001b[0m     import_optional_dependency(\u001b[38;5;124m\"\u001b[39m\u001b[38;5;124mbs4\u001b[39m\u001b[38;5;124m\"\u001b[39m)\n\u001b[0;32m    922\u001b[0m \u001b[38;5;28;01melse\u001b[39;00m:\n",
      "File \u001b[1;32mC:\\ProgramData\\anaconda3\\Lib\\site-packages\\pandas\\compat\\_optional.py:135\u001b[0m, in \u001b[0;36mimport_optional_dependency\u001b[1;34m(name, extra, errors, min_version)\u001b[0m\n\u001b[0;32m    133\u001b[0m \u001b[38;5;28;01mexcept\u001b[39;00m \u001b[38;5;167;01mImportError\u001b[39;00m:\n\u001b[0;32m    134\u001b[0m     \u001b[38;5;28;01mif\u001b[39;00m errors \u001b[38;5;241m==\u001b[39m \u001b[38;5;124m\"\u001b[39m\u001b[38;5;124mraise\u001b[39m\u001b[38;5;124m\"\u001b[39m:\n\u001b[1;32m--> 135\u001b[0m         \u001b[38;5;28;01mraise\u001b[39;00m \u001b[38;5;167;01mImportError\u001b[39;00m(msg)\n\u001b[0;32m    136\u001b[0m     \u001b[38;5;28;01mreturn\u001b[39;00m \u001b[38;5;28;01mNone\u001b[39;00m\n\u001b[0;32m    138\u001b[0m \u001b[38;5;66;03m# Handle submodules: if we have submodule, grab parent module from sys.modules\u001b[39;00m\n",
      "\u001b[1;31mImportError\u001b[0m: Missing optional dependency 'html5lib'.  Use pip or conda to install html5lib."
     ]
    }
   ],
   "source": [
    "import time\n",
    "from bs4 import BeautifulSoup\n",
    "for year in years:\n",
    "    data = requests.get(standings_url)\n",
    "    soup = BeautifulSoup(data.text)\n",
    "    standings_table = soup.select('div.section_content', id='div_Group Stage')[0] \n",
    "    links = [l.get(\"href\") for l in standings_table.find_all('a')]\n",
    "    links = [l for l in links if '/squads/' in l]\n",
    "    team_urls = [f\"https://fbref.com{l}\" for l in links]\n",
    "    previous_season =   soup.select('div.prevnext')[0].get(\"href\")\n",
    "    standings_url = f\"https://fbref.com/{previous_season}\"\n",
    "    \n",
    "    for team_url in team_urls:\n",
    "        team_name = team_url.split(\"/\")[-1].replace(\"-Stats\", \"\").replace(\"-\", \" \")\n",
    "        data = requests.get(team_url)\n",
    "        matches = pd.read_html(data.text, match=\"Scores & Fixtures\")[0]\n",
    "\n",
    "        soup = BeautifulSoup(data.text)\n",
    "        links = [l.get(\"href\") for l in soup.find_all('a')]\n",
    "        links = [l for l in links if l and 'all_comps/shooting/' in l]\n",
    "        data = requests.get(f\"http://fbref.com{links[0]}\")\n",
    "        shooting = pd.read_html(data.text, match= \"Shooting\")[0]\n",
    "        shooting.columns = shooting.columns.droplevel()\n",
    "        try:\n",
    "            team_data = matches.merge(shooting[[\"Date\", \"Sh\", \"SoT\", \"Dist\", \"PK\", \"PKatt\"]], on=\"Date\")\n",
    "        except ValueError:\n",
    "             continue\n",
    "        team_data = team_data[team_data[\"Comp\"].isin([\"UEFA Euro Qualifying\", \"UEFA Euro\"])]\n",
    "        team_data[\"Season\"] = year\n",
    "        team_data[\"team\"] = team_name\n",
    "        all_matches.append(team_data)\n",
    "        time.sleep(5)\n",
    "        \n",
    "      "
   ]
  },
  {
   "cell_type": "code",
   "execution_count": 31,
   "id": "6b0cb33f-1417-4447-88c7-d7d70b944537",
   "metadata": {},
   "outputs": [],
   "source": [
    "match_df = pd.concat(all_matches)"
   ]
  },
  {
   "cell_type": "code",
   "execution_count": null,
   "id": "809461de-462b-4380-b398-68c8f68927e0",
   "metadata": {},
   "outputs": [],
   "source": [
    "match_df.columns = [c.lower() for c in match_df.columns]\n",
    "match_df.to_csv(\"matches.csv\")"
   ]
  },
  {
   "cell_type": "code",
   "execution_count": null,
   "id": "2182e8cb-e555-45b6-b0e4-20f5faa895ed",
   "metadata": {},
   "outputs": [],
   "source": [
    "match_df"
   ]
  },
  {
   "cell_type": "code",
   "execution_count": null,
   "id": "1df7f784-0a55-4a52-97fc-f3a394ef9a5f",
   "metadata": {},
   "outputs": [],
   "source": []
  },
  {
   "cell_type": "code",
   "execution_count": null,
   "id": "ffc0dc26-acf7-4d16-93cb-04864d7ec4f0",
   "metadata": {},
   "outputs": [],
   "source": []
  }
 ],
 "metadata": {
  "kernelspec": {
   "display_name": "Python 3 (ipykernel)",
   "language": "python",
   "name": "python3"
  },
  "language_info": {
   "codemirror_mode": {
    "name": "ipython",
    "version": 3
   },
   "file_extension": ".py",
   "mimetype": "text/x-python",
   "name": "python",
   "nbconvert_exporter": "python",
   "pygments_lexer": "ipython3",
   "version": "3.12.4"
  }
 },
 "nbformat": 4,
 "nbformat_minor": 5
}
